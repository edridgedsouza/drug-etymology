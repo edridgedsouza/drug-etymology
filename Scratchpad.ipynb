{
 "cells": [
  {
   "cell_type": "code",
   "execution_count": 12,
   "metadata": {},
   "outputs": [],
   "source": [
    "import re\n",
    "import pandas"
   ]
  },
  {
   "cell_type": "code",
   "execution_count": 11,
   "metadata": {},
   "outputs": [
    {
     "data": {
      "text/html": [
       "<div>\n",
       "<style scoped>\n",
       "    .dataframe tbody tr th:only-of-type {\n",
       "        vertical-align: middle;\n",
       "    }\n",
       "\n",
       "    .dataframe tbody tr th {\n",
       "        vertical-align: top;\n",
       "    }\n",
       "\n",
       "    .dataframe thead th {\n",
       "        text-align: right;\n",
       "    }\n",
       "</style>\n",
       "<table border=\"1\" class=\"dataframe\">\n",
       "  <thead>\n",
       "    <tr style=\"text-align: right;\">\n",
       "      <th></th>\n",
       "      <th>0</th>\n",
       "      <th>1</th>\n",
       "    </tr>\n",
       "  </thead>\n",
       "  <tbody>\n",
       "    <tr>\n",
       "      <th>0</th>\n",
       "      <td>-abine</td>\n",
       "      <td>arabinofuranosyl derivatives; nucleosides anti...</td>\n",
       "    </tr>\n",
       "    <tr>\n",
       "      <th>1</th>\n",
       "      <td>-ac</td>\n",
       "      <td>anti-inflammatory agents, ibufenac derivatives</td>\n",
       "    </tr>\n",
       "    <tr>\n",
       "      <th>2</th>\n",
       "      <td>-acetam</td>\n",
       "      <td>amide type nootrope agents, piracetam derivatives</td>\n",
       "    </tr>\n",
       "    <tr>\n",
       "      <th>3</th>\n",
       "      <td>-actide</td>\n",
       "      <td>synthetic polypeptide with a corticotropin-lik...</td>\n",
       "    </tr>\n",
       "    <tr>\n",
       "      <th>4</th>\n",
       "      <td>-adol</td>\n",
       "      <td>analgesics</td>\n",
       "    </tr>\n",
       "    <tr>\n",
       "      <th>...</th>\n",
       "      <td>...</td>\n",
       "      <td>...</td>\n",
       "    </tr>\n",
       "    <tr>\n",
       "      <th>471</th>\n",
       "      <td>-zolast</td>\n",
       "      <td>leukotriene biosynthesis inhibitors</td>\n",
       "    </tr>\n",
       "    <tr>\n",
       "      <th>472</th>\n",
       "      <td>-zolid</td>\n",
       "      <td>oxazolidinone antibacterials</td>\n",
       "    </tr>\n",
       "    <tr>\n",
       "      <th>473</th>\n",
       "      <td>-zomib</td>\n",
       "      <td>proteasome inhibitors</td>\n",
       "    </tr>\n",
       "    <tr>\n",
       "      <th>474</th>\n",
       "      <td>-zone</td>\n",
       "      <td>anti-inflammatory analgesics, phenylbutazone d...</td>\n",
       "    </tr>\n",
       "    <tr>\n",
       "      <th>475</th>\n",
       "      <td>-zotan</td>\n",
       "      <td>5-HT1A receptor agonists / antagonists acting ...</td>\n",
       "    </tr>\n",
       "  </tbody>\n",
       "</table>\n",
       "<p>476 rows × 2 columns</p>\n",
       "</div>"
      ],
      "text/plain": [
       "           0                                                  1\n",
       "0     -abine  arabinofuranosyl derivatives; nucleosides anti...\n",
       "1        -ac     anti-inflammatory agents, ibufenac derivatives\n",
       "2    -acetam  amide type nootrope agents, piracetam derivatives\n",
       "3    -actide  synthetic polypeptide with a corticotropin-lik...\n",
       "4      -adol                                         analgesics\n",
       "..       ...                                                ...\n",
       "471  -zolast                leukotriene biosynthesis inhibitors\n",
       "472   -zolid                       oxazolidinone antibacterials\n",
       "473   -zomib                              proteasome inhibitors\n",
       "474    -zone  anti-inflammatory analgesics, phenylbutazone d...\n",
       "475   -zotan  5-HT1A receptor agonists / antagonists acting ...\n",
       "\n",
       "[476 rows x 2 columns]"
      ]
     },
     "execution_count": 11,
     "metadata": {},
     "output_type": "execute_result"
    }
   ],
   "source": [
    "pd.read_csv('./stems.tsv', sep='\\t', header=None)"
   ]
  },
  {
   "cell_type": "code",
   "execution_count": 31,
   "metadata": {},
   "outputs": [],
   "source": [
    "definitions = {}\n",
    "patterns = {}\n",
    "\n",
    "def strip_dash(string):\n",
    "    return string.replace('-', '')\n",
    "\n",
    "with open('./stems.tsv', 'r') as f:\n",
    "    for line in f:\n",
    "        l = line.strip()\n",
    "        stem, defn = l.split('\\t')\n",
    "        definitions[stem] = defn\n",
    "        \n",
    "        root = strip_dash(stem)\n",
    "        if stem.startswith('-') and not stem.endswith('-'):\n",
    "            pattern = re.compile(f'.*{root}')\n",
    "        elif stem.endswith('-') and not stem.startswith('-'):\n",
    "            pattern = re.compile(f'{root}.*')\n",
    "        elif stem.startswith('-') and stem.endswith('-'):\n",
    "            pattern = re.compile(f'.*{root}.*')\n",
    "        else:\n",
    "            pattern = re.compile(f'.*{stem}.*')\n",
    "            \n",
    "        patterns[stem] = pattern\n",
    "            \n",
    "def etymology(drug):\n",
    "    matching_roots = []\n",
    "    \n",
    "    for stem, pattern in patterns.items():\n",
    "        if re.search(pattern, drug):\n",
    "            matching_roots.append(stem)\n",
    "            \n",
    "    return {stem:definitions[stem] for stem in matching_roots}\n",
    "            "
   ]
  },
  {
   "cell_type": "code",
   "execution_count": 33,
   "metadata": {},
   "outputs": [
    {
     "data": {
      "text/plain": [
       "{'ni-': 'NO2 - derivatives',\n",
       " '-ni-': 'NO2 - derivatives',\n",
       " '-zomib': 'proteasome inhibitors'}"
      ]
     },
     "execution_count": 33,
     "metadata": {},
     "output_type": "execute_result"
    }
   ],
   "source": [
    "etymology('bortniezomib')"
   ]
  }
 ],
 "metadata": {
  "kernelspec": {
   "display_name": "Python 3",
   "language": "python",
   "name": "python3"
  },
  "language_info": {
   "codemirror_mode": {
    "name": "ipython",
    "version": 3
   },
   "file_extension": ".py",
   "mimetype": "text/x-python",
   "name": "python",
   "nbconvert_exporter": "python",
   "pygments_lexer": "ipython3",
   "version": "3.7.0"
  }
 },
 "nbformat": 4,
 "nbformat_minor": 2
}
